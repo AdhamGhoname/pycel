{
 "cells": [
  {
   "cell_type": "code",
   "execution_count": null,
   "metadata": {},
   "outputs": [],
   "source": [
    "from context import pycel"
   ]
  },
  {
   "cell_type": "code",
   "execution_count": null,
   "metadata": {},
   "outputs": [],
   "source": [
    "from pycel import ExcelCompiler\n",
    "\n",
    "from pycel import excellib"
   ]
  },
  {
   "cell_type": "code",
   "execution_count": null,
   "metadata": {},
   "outputs": [],
   "source": []
  },
  {
   "cell_type": "code",
   "execution_count": null,
   "metadata": {},
   "outputs": [],
   "source": [
    "# Tests:\n",
    "# - Type 0 and type 1\n",
    "# - pmt set and fv set"
   ]
  },
  {
   "cell_type": "code",
   "execution_count": null,
   "metadata": {},
   "outputs": [],
   "source": []
  },
  {
   "cell_type": "code",
   "execution_count": null,
   "metadata": {},
   "outputs": [],
   "source": [
    "def pv(rate, nper, pmt, fv=0, the_type=0):\n",
    "    # https://support.office.com/en-us/article/pv-function-23879d31-0e02-4321-be01-da16e8168cbd\n",
    "    \n",
    "    # If pmt is omitted, you must include the fv argument.\n",
    "    # pmt or fv must be provided. What happens if both are provided?\n",
    "    \n",
    "    \n",
    "    if rate != 0:\n",
    "        the_pv = (-fv - pmt*(1 + rate*the_type)*(((1 + rate)**nper - 1))/rate) * 1/(1+rate)**nper\n",
    "    else:\n",
    "        the_pv = -fv - pmt*nper\n",
    "    \n",
    "    return the_pv"
   ]
  },
  {
   "cell_type": "code",
   "execution_count": null,
   "metadata": {},
   "outputs": [],
   "source": []
  },
  {
   "cell_type": "code",
   "execution_count": null,
   "metadata": {
    "scrolled": true
   },
   "outputs": [],
   "source": [
    "# From the web site\n",
    "example_1 = {'rate': 0.08/12, 'nper': 20*12, 'pmt': 500, 'fv': 0, 'the_type': 0}\n",
    "result_1 = -59777.15\n",
    "\n",
    "abs(pv(**example_1) - result_1)/result_1"
   ]
  },
  {
   "cell_type": "code",
   "execution_count": null,
   "metadata": {},
   "outputs": [],
   "source": [
    "arguments = [\n",
    "    [-0.05, 0.0, 0.05], # rate\n",
    "    [0, 5], # nper\n",
    "    [500], # pmt\n",
    "    [1000], # fv\n",
    "    [0, 1], # the_type\n",
    "]"
   ]
  },
  {
   "cell_type": "code",
   "execution_count": null,
   "metadata": {},
   "outputs": [],
   "source": [
    "import itertools\n",
    "\n",
    "elements = []\n",
    "\n",
    "for element in itertools.product(*arguments):\n",
    "    elements.append(element)"
   ]
  },
  {
   "cell_type": "code",
   "execution_count": null,
   "metadata": {},
   "outputs": [],
   "source": [
    "import pandas as pd"
   ]
  },
  {
   "cell_type": "code",
   "execution_count": null,
   "metadata": {},
   "outputs": [],
   "source": [
    "df = pd.DataFrame(elements)"
   ]
  },
  {
   "cell_type": "code",
   "execution_count": null,
   "metadata": {},
   "outputs": [],
   "source": [
    "df.columns = ['rate', 'nper', 'pmt', 'fv', 'the_type']"
   ]
  },
  {
   "cell_type": "code",
   "execution_count": null,
   "metadata": {},
   "outputs": [],
   "source": [
    "df['result'] = [\n",
    "-1000.000000,\n",
    "-1000.000000,\n",
    "-4215.909784,\n",
    "-4069.732066,\n",
    "-1000.000000,\n",
    "-1000.000000,\n",
    "-3500.000000,\n",
    "-3500.000000,\n",
    "-1000.000000,\n",
    "-1000.000000,\n",
    "-2948.264502,\n",
    "-3056.501419,\n",
    "]"
   ]
  },
  {
   "cell_type": "code",
   "execution_count": null,
   "metadata": {},
   "outputs": [],
   "source": []
  },
  {
   "cell_type": "code",
   "execution_count": null,
   "metadata": {},
   "outputs": [],
   "source": [
    "xx = []\n",
    "for i, row in df.iterrows():\n",
    "    inputs = tuple(row[['rate', 'nper', 'pmt','fv', 'the_type']])\n",
    "    result = row['result'] \n",
    "    \n",
    "    xx.append((inputs, result))"
   ]
  },
  {
   "cell_type": "code",
   "execution_count": null,
   "metadata": {},
   "outputs": [],
   "source": []
  },
  {
   "cell_type": "code",
   "execution_count": null,
   "metadata": {},
   "outputs": [],
   "source": [
    "zzs = []\n",
    "yys = []\n",
    "\n",
    "for inputs, result in xx:\n",
    "    output = pv(*inputs)\n",
    "    \n",
    "    zz = np.allclose(output, result)\n",
    "    \n",
    "    zzs.append(zz)\n",
    "    \n",
    "    yys.append((output, result))"
   ]
  },
  {
   "cell_type": "code",
   "execution_count": null,
   "metadata": {},
   "outputs": [],
   "source": [
    "inputs, result = xx[0]"
   ]
  },
  {
   "cell_type": "code",
   "execution_count": null,
   "metadata": {},
   "outputs": [],
   "source": [
    "inputs"
   ]
  },
  {
   "cell_type": "code",
   "execution_count": null,
   "metadata": {
    "scrolled": true
   },
   "outputs": [],
   "source": [
    "zzs"
   ]
  },
  {
   "cell_type": "code",
   "execution_count": null,
   "metadata": {},
   "outputs": [],
   "source": [
    "tuple(xx)"
   ]
  }
 ],
 "metadata": {
  "kernelspec": {
   "display_name": "env_pycel",
   "language": "python",
   "name": "env_pycel"
  },
  "language_info": {
   "codemirror_mode": {
    "name": "ipython",
    "version": 3
   },
   "file_extension": ".py",
   "mimetype": "text/x-python",
   "name": "python",
   "nbconvert_exporter": "python",
   "pygments_lexer": "ipython3",
   "version": "3.6.10"
  },
  "varInspector": {
   "cols": {
    "lenName": 16,
    "lenType": 16,
    "lenVar": 40
   },
   "kernels_config": {
    "python": {
     "delete_cmd_postfix": "",
     "delete_cmd_prefix": "del ",
     "library": "var_list.py",
     "varRefreshCmd": "print(var_dic_list())"
    },
    "r": {
     "delete_cmd_postfix": ") ",
     "delete_cmd_prefix": "rm(",
     "library": "var_list.r",
     "varRefreshCmd": "cat(var_dic_list()) "
    }
   },
   "types_to_exclude": [
    "module",
    "function",
    "builtin_function_or_method",
    "instance",
    "_Feature"
   ],
   "window_display": false
  }
 },
 "nbformat": 4,
 "nbformat_minor": 4
}
